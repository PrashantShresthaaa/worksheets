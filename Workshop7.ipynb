{
  "nbformat": 4,
  "nbformat_minor": 0,
  "metadata": {
    "colab": {
      "provenance": []
    },
    "kernelspec": {
      "name": "python3",
      "display_name": "Python 3"
    },
    "language_info": {
      "name": "python"
    }
  },
  "cells": [
    {
      "cell_type": "code",
      "source": [
        "import pandas as pd\n",
        "import sklearn\n",
        "from sklearn.model_selection import train_test_split\n",
        "from sklearn.linear_model import LinearRegression\n",
        "from sklearn.metrics import mean_squared_error, mean_absolute_error, r2_score\n",
        "from sklearn.linear_model import LogisticRegression\n",
        "from sklearn.metrics import accuracy_score, confusion_matrix, classification_report"
      ],
      "metadata": {
        "id": "NZ-pHzU_6gbd"
      },
      "execution_count": 2,
      "outputs": []
    },
    {
      "cell_type": "code",
      "execution_count": 3,
      "metadata": {
        "id": "fXJqgHZP6YgV"
      },
      "outputs": [],
      "source": [
        "\n",
        "Diabetes_df=pd.read_csv(\"/content/drive/MyDrive/Copy of diabetes.csv\")"
      ]
    },
    {
      "cell_type": "code",
      "source": [
        "sklearn.show_versions()"
      ],
      "metadata": {
        "colab": {
          "base_uri": "https://localhost:8080/"
        },
        "id": "710JhS3e8SVn",
        "outputId": "4938adea-ce61-4ad5-91e8-67bf9656cf6e"
      },
      "execution_count": 4,
      "outputs": [
        {
          "output_type": "stream",
          "name": "stdout",
          "text": [
            "\n",
            "System:\n",
            "    python: 3.10.12 (main, Nov  6 2024, 20:22:13) [GCC 11.4.0]\n",
            "executable: /usr/bin/python3\n",
            "   machine: Linux-6.1.85+-x86_64-with-glibc2.35\n",
            "\n",
            "Python dependencies:\n",
            "      sklearn: 1.6.0\n",
            "          pip: 24.1.2\n",
            "   setuptools: 75.1.0\n",
            "        numpy: 1.26.4\n",
            "        scipy: 1.13.1\n",
            "       Cython: 3.0.11\n",
            "       pandas: 2.2.2\n",
            "   matplotlib: 3.8.0\n",
            "       joblib: 1.4.2\n",
            "threadpoolctl: 3.5.0\n",
            "\n",
            "Built with OpenMP: True\n",
            "\n",
            "threadpoolctl info:\n",
            "       user_api: blas\n",
            "   internal_api: openblas\n",
            "    num_threads: 2\n",
            "         prefix: libopenblas\n",
            "       filepath: /usr/local/lib/python3.10/dist-packages/numpy.libs/libopenblas64_p-r0-0cf96a72.3.23.dev.so\n",
            "        version: 0.3.23.dev\n",
            "threading_layer: pthreads\n",
            "   architecture: Haswell\n",
            "\n",
            "       user_api: blas\n",
            "   internal_api: openblas\n",
            "    num_threads: 2\n",
            "         prefix: libopenblas\n",
            "       filepath: /usr/local/lib/python3.10/dist-packages/scipy.libs/libopenblasp-r0-01191904.3.27.so\n",
            "        version: 0.3.27\n",
            "threading_layer: pthreads\n",
            "   architecture: Haswell\n",
            "\n",
            "       user_api: openmp\n",
            "   internal_api: openmp\n",
            "    num_threads: 2\n",
            "         prefix: libgomp\n",
            "       filepath: /usr/local/lib/python3.10/dist-packages/scikit_learn.libs/libgomp-a34b3233.so.1.0.0\n",
            "        version: None\n"
          ]
        }
      ]
    },
    {
      "cell_type": "code",
      "source": [
        "X=Diabetes_df.drop(columns=[\"BloodPressure\"])\n",
        "y=Diabetes_df[\"BloodPressure\"]\n",
        "X_train, X_test, y_train, y_test= train_test_split(X, y, test_size=0.2, random_state=42)\n",
        "model = LinearRegression()\n",
        "\n",
        "model.fit(X_train, y_train) # creating the model\n",
        "\n",
        "y_pred=model.predict(X_test) #training the model\n",
        "print(\"predicted values:\", y_pred)\n",
        "\n"
      ],
      "metadata": {
        "colab": {
          "base_uri": "https://localhost:8080/"
        },
        "id": "1nM-yfKN8p-W",
        "outputId": "5881a9b7-9442-45e9-baaf-3d44a7d11ce5"
      },
      "execution_count": 5,
      "outputs": [
        {
          "output_type": "stream",
          "name": "stdout",
          "text": [
            "predicted values: [76.73337586 69.90169239 61.19862988 64.04439662 74.77414338 83.4470734\n",
            " 56.99274    71.63327722 75.63220031 82.85778327 69.59472685 89.28803491\n",
            " 66.39097112 73.82574022 63.8017783  68.18222856 71.86582779 66.15642506\n",
            " 66.54914618 69.66539695 71.17757085 68.56440836 85.62079721 66.07452712\n",
            " 78.15451581 78.81508325 66.5732718  59.7426553  70.849067   69.18239603\n",
            " 82.3082984  81.4364907  74.78548873 64.17623674 79.89778863 72.5631288\n",
            " 98.93510656 69.61112735 81.03974981 66.04201673 65.30890975 76.58255406\n",
            " 84.52654248 65.54867835 58.34110819 68.56960524 81.77115164 72.89526269\n",
            " 73.32504109 91.36245483 61.86928762 78.18506035 85.76649107 58.2378346\n",
            " 60.48740844 64.58970495 80.80506628 44.87565588 72.13652556 70.05967319\n",
            " 77.0260046  72.39537599 72.51252868 65.03936629 69.00944125 80.38791571\n",
            " 63.72880849 74.44501485 56.67080029 75.15001857 80.78378677 67.9818652\n",
            " 72.78972316 64.76934801 61.54562928 89.8878845  69.78634522 70.27197469\n",
            " 66.51008697 68.58476061 66.58662534 64.66131017 67.57502475 77.14212767\n",
            " 67.00811957 73.59512567 84.1716876  66.46880804 69.74018856 65.20320843\n",
            " 63.38639722 69.36699731 44.35934711 65.10102622 74.69707949 78.49948666\n",
            " 70.76619983 68.61098969 65.26056817 68.05456629 84.49682091 67.20676428\n",
            " 74.42820578 75.81971391 65.0778519  75.01580243 67.23728684 72.57192446\n",
            " 64.58486368 74.63783918 64.24981252 61.64094218 47.8493877  81.13163678\n",
            " 69.21728734 70.34740252 71.72424876 65.26785234 58.70617815 68.47942503\n",
            " 57.61227614 76.40982175 67.75458254 61.36735168 61.65554578 87.97749832\n",
            " 47.16116729 78.57076924 78.2094998  77.24873837 63.0131181  79.452826\n",
            " 58.67112958 73.25000429 72.0912011  64.73487165 57.96898935 76.71478315\n",
            " 80.22119822 56.64190877 63.85133671 58.07892955 63.63988084 72.86228643\n",
            " 63.69345307 77.40894041 63.3473499  56.91645612 80.28148656 72.47404786\n",
            " 66.53182287 78.56824935 66.25675877 76.67717896]\n"
          ]
        }
      ]
    },
    {
      "cell_type": "code",
      "source": [
        "mse=mean_squared_error(y_test, y_pred)\n",
        "r2=r2_score(y_test,y_pred)\n",
        "\n",
        "print(\"mean squared error:\",mse)\n",
        "print(\"R squared error\",r2)"
      ],
      "metadata": {
        "colab": {
          "base_uri": "https://localhost:8080/"
        },
        "id": "GuZDexMvZrey",
        "outputId": "bd8ca6dc-5b32-4489-d1ad-ec1867f7c708"
      },
      "execution_count": 6,
      "outputs": [
        {
          "output_type": "stream",
          "name": "stdout",
          "text": [
            "mean squared error: 402.8523890426408\n",
            "R squared error 0.19403775986668115\n"
          ]
        }
      ]
    },
    {
      "cell_type": "code",
      "source": [
        "model = LogisticRegression()\n",
        "\n",
        "model.fit(X_train, y_train) # creating the model\n",
        "\n",
        "y_pred=model.predict(X_test) #training dthe model\n",
        "print(\"predicted values:\", y_pred)"
      ],
      "metadata": {
        "id": "jrUPeCpEWsAn",
        "colab": {
          "base_uri": "https://localhost:8080/"
        },
        "outputId": "019d21b2-8e6e-4d5f-805f-4cf03c5a753e"
      },
      "execution_count": 7,
      "outputs": [
        {
          "output_type": "stream",
          "name": "stdout",
          "text": [
            "predicted values: [82 64  0 74 74 82 68 80 74 80 72 74 70 80 68 64 78 70  0 64 80 68 78 68\n",
            " 70 70 70 74 68 80 64 80 70  0 80 70 85 68 72  0 78 82 80 72 74 64 82 78\n",
            " 82 82 70 74 82  0 64 78 74 96 64  0 72 68 82 82 80 64 78 76  0 64 74 78\n",
            " 82 66  0 80 82 82 64 76  0 64 80 64 70 70 78 70 78 76 68 76 96 74 70 64\n",
            " 76 80 58 80 68 66 76 64  0 68 64 64 80 78 70 96 96 70 68 64 64  0  0 70\n",
            "  0 64 70 68  0 82 96 72 76 70 96 70 70 72 64 76 70 70 74 78 70  0  0 64\n",
            " 76 78 78 80 78  0 68 80 64 78]\n"
          ]
        },
        {
          "output_type": "stream",
          "name": "stderr",
          "text": [
            "/usr/local/lib/python3.10/dist-packages/sklearn/linear_model/_logistic.py:465: ConvergenceWarning: lbfgs failed to converge (status=1):\n",
            "STOP: TOTAL NO. of ITERATIONS REACHED LIMIT.\n",
            "\n",
            "Increase the number of iterations (max_iter) or scale the data as shown in:\n",
            "    https://scikit-learn.org/stable/modules/preprocessing.html\n",
            "Please also refer to the documentation for alternative solver options:\n",
            "    https://scikit-learn.org/stable/modules/linear_model.html#logistic-regression\n",
            "  n_iter_i = _check_optimize_result(\n"
          ]
        }
      ]
    },
    {
      "cell_type": "code",
      "source": [
        "X=Diabetes_df.drop(columns=['Outcome'])\n",
        "y=Diabetes_df['Outcome']\n",
        "model = LogisticRegression()\n",
        "X_train, X_test, y_train, y_test=train_test_split(X, y, test_size=0.2, random_state=42)\n",
        "model.fit(X_train, y_train) # creating the model\n",
        "\n",
        "y_pred=model.predict(X_test) #training dthe model\n",
        "print(\"predicted values:\", y_pred)"
      ],
      "metadata": {
        "id": "HeBLKaU214Zr",
        "colab": {
          "base_uri": "https://localhost:8080/"
        },
        "outputId": "e84c979f-2070-412f-c4ad-9ccabbf75e11"
      },
      "execution_count": 13,
      "outputs": [
        {
          "output_type": "stream",
          "name": "stdout",
          "text": [
            "predicted values: [0 0 0 0 0 0 0 1 1 1 0 1 0 0 0 0 0 0 1 1 0 0 1 0 1 1 0 0 0 0 1 1 1 1 1 1 1\n",
            " 0 1 1 0 1 1 0 0 1 1 0 0 1 0 1 1 0 0 0 1 0 0 1 1 0 0 0 0 1 0 1 0 1 1 0 0 0\n",
            " 0 1 0 0 0 0 1 0 0 0 0 1 1 0 0 0 0 0 0 1 1 1 0 0 1 0 1 0 1 1 1 0 0 1 0 1 0\n",
            " 0 0 1 0 0 1 0 0 1 0 0 0 0 0 0 0 1 1 1 1 1 0 0 1 0 0 1 1 0 0 0 0 0 0 0 0 0\n",
            " 0 1 0 0 0 0]\n"
          ]
        },
        {
          "output_type": "stream",
          "name": "stderr",
          "text": [
            "/usr/local/lib/python3.10/dist-packages/sklearn/linear_model/_logistic.py:465: ConvergenceWarning: lbfgs failed to converge (status=1):\n",
            "STOP: TOTAL NO. of ITERATIONS REACHED LIMIT.\n",
            "\n",
            "Increase the number of iterations (max_iter) or scale the data as shown in:\n",
            "    https://scikit-learn.org/stable/modules/preprocessing.html\n",
            "Please also refer to the documentation for alternative solver options:\n",
            "    https://scikit-learn.org/stable/modules/linear_model.html#logistic-regression\n",
            "  n_iter_i = _check_optimize_result(\n"
          ]
        }
      ]
    },
    {
      "cell_type": "code",
      "source": [
        "#calculating the errors\n",
        "accuracy=accuracy_score(y_test, y_pred)\n",
        "confusion_mat=confusion_matrix(y_test, y_pred)\n",
        "classification_rep=classification_report(y_test, y_pred)\n"
      ],
      "metadata": {
        "id": "nBkzW711RG_h"
      },
      "execution_count": 14,
      "outputs": []
    },
    {
      "cell_type": "code",
      "source": [
        "print(\"the logistic regression accuracy is:\",accuracy)"
      ],
      "metadata": {
        "colab": {
          "base_uri": "https://localhost:8080/"
        },
        "id": "LIH6CYdlS_EB",
        "outputId": "905cd23a-1934-4cbc-bf4b-f21bf723a832"
      },
      "execution_count": 20,
      "outputs": [
        {
          "output_type": "stream",
          "name": "stdout",
          "text": [
            "the logistic regression accuracy is: 0.7467532467532467\n"
          ]
        }
      ]
    },
    {
      "cell_type": "code",
      "source": [
        "print(\"the confusion matrix is:\",confusion_mat)"
      ],
      "metadata": {
        "colab": {
          "base_uri": "https://localhost:8080/"
        },
        "id": "yYIZKObBTAfg",
        "outputId": "9f6377bf-df24-4dde-cb91-b376ffe08e6f"
      },
      "execution_count": 19,
      "outputs": [
        {
          "output_type": "stream",
          "name": "stdout",
          "text": [
            "the confusion matrix is: [[78 21]\n",
            " [18 37]]\n"
          ]
        }
      ]
    },
    {
      "cell_type": "code",
      "source": [
        "classification_rep"
      ],
      "metadata": {
        "colab": {
          "base_uri": "https://localhost:8080/",
          "height": 70
        },
        "id": "mmuj7AdhTDnK",
        "outputId": "3624679c-2c4a-4c8d-e317-f43bfddad82e"
      },
      "execution_count": 18,
      "outputs": [
        {
          "output_type": "execute_result",
          "data": {
            "text/plain": [
              "'              precision    recall  f1-score   support\\n\\n           0       0.81      0.79      0.80        99\\n           1       0.64      0.67      0.65        55\\n\\n    accuracy                           0.75       154\\n   macro avg       0.73      0.73      0.73       154\\nweighted avg       0.75      0.75      0.75       154\\n'"
            ],
            "application/vnd.google.colaboratory.intrinsic+json": {
              "type": "string"
            }
          },
          "metadata": {},
          "execution_count": 18
        }
      ]
    },
    {
      "cell_type": "code",
      "source": [],
      "metadata": {
        "id": "bmK2IBuLTGMc"
      },
      "execution_count": null,
      "outputs": []
    }
  ]
}